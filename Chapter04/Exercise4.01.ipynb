{
 "cells": [
  {
   "cell_type": "markdown",
   "metadata": {},
   "source": [
    "# Exercise 4.1"
   ]
  },
  {
   "cell_type": "markdown",
   "metadata": {},
   "source": [
    "## CNN output size, no padding or stride\n",
    "\n",
    "output_width = $W_i - W_f + 1$\n",
    "* $W_i$ = width of image\n",
    "* $W_f$ = width of filter\n",
    "\n",
    "output depth = $N_f * {D_i \\over D_f}$\n",
    "* $D_i$ = Depth of Image\n",
    "* $D_f$ = Depth of filter\n",
    "* $N_f$ = Number of filters"
   ]
  },
  {
   "cell_type": "markdown",
   "metadata": {},
   "source": [
    "### Problem 1\n",
    "Calculate the output shape of a matrix derived from a convolutional laver with an input of shape 64 x 64 x 3 and a filter of shape 3 x 3 x 3"
   ]
  },
  {
   "cell_type": "code",
   "execution_count": null,
   "metadata": {},
   "outputs": [],
   "source": [
    "from math import ceil\n",
    "\n",
    "output_width = 64 - 3 + 1\n",
    "output_height = 64 - 3 + 1\n",
    "num_filters = 1\n",
    "output_depth = ceil(3/3) * num_filters\n",
    "\n",
    "dims = (output_width, output_height, output_depth)\n",
    "dims"
   ]
  },
  {
   "cell_type": "code",
   "execution_count": null,
   "metadata": {},
   "outputs": [],
   "source": [
    "from functools import reduce\n",
    "\n",
    "\"total output size: {}\".format(reduce(lambda x,y: x*y, dims))"
   ]
  },
  {
   "cell_type": "code",
   "execution_count": null,
   "metadata": {},
   "outputs": [],
   "source": [
    "62 * 62 * 1"
   ]
  },
  {
   "cell_type": "markdown",
   "metadata": {},
   "source": [
    "## CNN output size with padding, no stride\n",
    "\n",
    "output_width = $W_i - W_f + 2 * P + 1$\n",
    "* $W_i$ = width of image\n",
    "* $W_f$ = width of filter\n",
    "* $P$ = padding\n",
    "\n",
    "padding = $ceiling({W_f - 1 \\over 2})$\n",
    "* $W_f$ = width of filter\n",
    "\n",
    "output depth = $N_f * {D_i \\over D_f}$\n",
    "* $D_i$ = Depth of Image\n",
    "* $D_f$ = Depth of filter\n",
    "* $N_f$ = Number of filters"
   ]
  },
  {
   "cell_type": "markdown",
   "metadata": {},
   "source": [
    "### Problem 2\n",
    "Calculate the output shape of a matrix derived from a convolutional laver with an input of shape 32 x 32 x 3, 10 filters of shape 5 x 5 x 3, and padding of 2:"
   ]
  },
  {
   "cell_type": "code",
   "execution_count": null,
   "metadata": {},
   "outputs": [],
   "source": [
    "padding = ceil((5 - 1)/2)\n",
    "output_width = 32 - 5 + 2 * padding + 1\n",
    "output_height = 32 - 5 + 2 * padding + 1\n",
    "num_filters = 10\n",
    "output_depth = ceil(3/3) * num_filters\n",
    "\n",
    "dims = (output_width, output_height, output_depth)\n",
    "dims"
   ]
  },
  {
   "cell_type": "code",
   "execution_count": null,
   "metadata": {},
   "outputs": [],
   "source": [
    "\"total output size: {}\".format(reduce(lambda x,y: x*y, dims))"
   ]
  },
  {
   "cell_type": "markdown",
   "metadata": {},
   "source": [
    "## CNN output size, with stride, no padding\n",
    "\n",
    "output_width = ${W_i - W_f \\over S} + 1$\n",
    "* $W_i$ = width of image\n",
    "* $W_f$ = width of filter\n",
    "* $S$ = stride\n",
    "\n",
    "output depth = $N_f * {D_i \\over D_f}$\n",
    "* $D_i$ = Depth of Image\n",
    "* $D_f$ = Depth of filter\n",
    "* $N_f$ = Number of filters"
   ]
  },
  {
   "cell_type": "markdown",
   "metadata": {},
   "source": [
    "### Problem 3\n",
    "Calculate the output shape of a matrix derived from a convolutional laver with an input of shape 128 x 128 x 1, 5 filters of shape 5 x 5 x 1, and stride of 3:"
   ]
  },
  {
   "cell_type": "code",
   "execution_count": 6,
   "metadata": {},
   "outputs": [],
   "source": [
    "stride = 3\n",
    "output_width = ceil((128 - 5) / stride + 1)\n",
    "output_height = ceil((128 - 5) / stride + 1)\n",
    "num_filters = 5\n",
    "output_depth = ceil(1/1) * num_filters\n",
    "\n",
    "dims = (output_width, output_height, output_depth)\n",
    "dims"
   ]
  },
  {
   "cell_type": "code",
   "execution_count": 7,
   "metadata": {},
   "outputs": [
    {
     "data": {
      "text/plain": [
       "'total output size: 8820'"
      ]
     },
     "execution_count": 7,
     "metadata": {},
     "output_type": "execute_result"
    }
   ],
   "source": [
    "\"total output size: {}\".format(reduce(lambda x,y: x*y, dims))"
   ]
  },
  {
   "cell_type": "markdown",
   "metadata": {},
   "source": [
    "## CNN output size, with stride and padding\n",
    "\n",
    "output_width = ${W_i - W_f + 2 * P \\over S} + 1$\n",
    "* $W_i$ = width of image\n",
    "* $W_f$ = width of filter\n",
    "* $S$ = stride\n",
    "* $P$ = padding\n",
    "\n",
    "output depth = $N_f * {D_i \\over D_f}$\n",
    "* $D_i$ = Depth of Image\n",
    "* $D_f$ = Depth of filter\n",
    "* $N_f$ = Number of filters"
   ]
  },
  {
   "cell_type": "markdown",
   "metadata": {},
   "source": [
    "### Problem 4\n",
    "Calculate the output shape of a matrix derived from a convolutional laver with an input of shape 64 x 64 x 1, a filter of shape 8 x 8 x 1, padding of 3 and stride of 3:"
   ]
  },
  {
   "cell_type": "code",
   "execution_count": 8,
   "metadata": {},
   "outputs": [
    {
     "data": {
      "text/plain": [
       "(22, 22, 1)"
      ]
     },
     "execution_count": 8,
     "metadata": {},
     "output_type": "execute_result"
    }
   ],
   "source": [
    "padding = 3\n",
    "stride = 3\n",
    "output_width = ceil((64 - 8 + 2 * padding) / stride + 1)\n",
    "output_height = ceil((64 - 8 + 2 * padding) / stride + 1)\n",
    "num_filters = 1\n",
    "output_depth = ceil(1/1) * num_filters\n",
    "\n",
    "dims = (output_width, output_height, output_depth)\n",
    "dims"
   ]
  },
  {
   "cell_type": "code",
   "execution_count": 9,
   "metadata": {},
   "outputs": [
    {
     "data": {
      "text/plain": [
       "'total output size: 484'"
      ]
     },
     "execution_count": 9,
     "metadata": {},
     "output_type": "execute_result"
    }
   ],
   "source": [
    "\"total output size: {}\".format(reduce(lambda x,y: x*y, dims))"
   ]
  }
 ],
 "metadata": {
  "kernelspec": {
   "display_name": "Python 3",
   "language": "python",
   "name": "python3"
  },
  "language_info": {
   "codemirror_mode": {
    "name": "ipython",
    "version": 3
   },
   "file_extension": ".py",
   "mimetype": "text/x-python",
   "name": "python",
   "nbconvert_exporter": "python",
   "pygments_lexer": "ipython3",
   "version": "3.6.8"
  }
 },
 "nbformat": 4,
 "nbformat_minor": 4
}
